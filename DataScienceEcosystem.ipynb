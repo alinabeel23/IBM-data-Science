{
 "cells": [
  {
   "cell_type": "markdown",
   "id": "3646470c-9d21-40e4-a20c-950ad9691fd9",
   "metadata": {},
   "source": [
    "# Data Science Tools and Ecosystem\n"
   ]
  },
  {
   "cell_type": "markdown",
   "id": "574e1405-49e4-49c7-9d89-eabf568fbb55",
   "metadata": {
    "tags": []
   },
   "source": [
    "Objectives: \n",
    "- List popular languages for Data Science\n",
    "- List commonly used libraries by Data Scientists\n",
    "- Evaluate arithmetic expressions using Python\n",
    "- Add and delete cells"
   ]
  },
  {
   "cell_type": "markdown",
   "id": "19ec47e9-e44c-4020-9298-f69a9bec2f6e",
   "metadata": {
    "tags": []
   },
   "source": [
    "In this notebook, Data Science Tools and Ecosystem are summarized."
   ]
  },
  {
   "cell_type": "markdown",
   "id": "0125866e-d8c7-4ecc-b96b-238642a0d04f",
   "metadata": {},
   "source": [
    "Some of the popular languages that Data Scientists use are:\n",
    "1. R\n",
    "2. Python\n",
    "3. Java\n",
    "4. JavaScript\n",
    "5. SQL"
   ]
  },
  {
   "cell_type": "markdown",
   "id": "d7dffdc5-e690-41eb-9d1a-da23a34140a7",
   "metadata": {},
   "source": [
    "Some of the commonly used libraries used by Data Scientists include:\n",
    "1. TensorFlow\n",
    "2. ggplot2\n",
    "3. Lattice\n",
    "4. NumPy\n",
    "5. Pandas"
   ]
  },
  {
   "cell_type": "markdown",
   "id": "3bd9d452-ca65-49b2-b7af-35334c99c90e",
   "metadata": {},
   "source": [
    "| Data Science Tools |\n",
    "| -------------------- |\n",
    "| RStudio |\n",
    "| GitHub |\n",
    "| Apache Spark |\n"
   ]
  },
  {
   "cell_type": "markdown",
   "id": "494bf2a9-a628-4cce-bd33-04f882baa341",
   "metadata": {},
   "source": [
    "### Below are a few examples of evaluating arithmetic expressions in Python"
   ]
  },
  {
   "cell_type": "code",
   "execution_count": 2,
   "id": "44d5ffe5-d0ac-4fb6-9983-8f3946f282a1",
   "metadata": {
    "tags": []
   },
   "outputs": [
    {
     "data": {
      "text/plain": [
       "17"
      ]
     },
     "execution_count": 2,
     "metadata": {},
     "output_type": "execute_result"
    }
   ],
   "source": [
    "# his a simple arithmetic expression to mutiply then add integers\n",
    "(3*4)+5"
   ]
  },
  {
   "cell_type": "code",
   "execution_count": 3,
   "id": "2b19e81c-7ba8-4527-b57d-1da3f97fe9a0",
   "metadata": {
    "tags": []
   },
   "outputs": [
    {
     "data": {
      "text/plain": [
       "3.3333333333333335"
      ]
     },
     "execution_count": 3,
     "metadata": {},
     "output_type": "execute_result"
    }
   ],
   "source": [
    "# This will convert 200 minutes to hours by diving by 60\n",
    "200/60"
   ]
  },
  {
   "cell_type": "markdown",
   "id": "d80bef9f-8829-4242-9413-74a921b2621c",
   "metadata": {},
   "source": [
    "## Author\n",
    "Ali Nabeel"
   ]
  },
  {
   "cell_type": "code",
   "execution_count": null,
   "id": "666dab19-fad8-4cc6-ac1c-e36b38527d35",
   "metadata": {},
   "outputs": [],
   "source": []
  }
 ],
 "metadata": {
  "kernelspec": {
   "display_name": "Python",
   "language": "python",
   "name": "conda-env-python-py"
  },
  "language_info": {
   "codemirror_mode": {
    "name": "ipython",
    "version": 3
   },
   "file_extension": ".py",
   "mimetype": "text/x-python",
   "name": "python",
   "nbconvert_exporter": "python",
   "pygments_lexer": "ipython3",
   "version": "3.7.12"
  }
 },
 "nbformat": 4,
 "nbformat_minor": 5
}
